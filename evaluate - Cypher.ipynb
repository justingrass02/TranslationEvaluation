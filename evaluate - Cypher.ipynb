{
 "cells": [
  {
   "cell_type": "code",
   "execution_count": 1,
   "metadata": {},
   "outputs": [
    {
     "name": "stdout",
     "output_type": "stream",
     "text": [
      "Defaulting to user installation because normal site-packages is not writeable\n",
      "Requirement already satisfied: duckdb in c:\\users\\justi\\appdata\\roaming\\python\\python313\\site-packages (1.3.2)\n",
      "Requirement already satisfied: numpy in c:\\users\\justi\\appdata\\roaming\\python\\python313\\site-packages (2.2.4)\n",
      "Note: you may need to restart the kernel to use updated packages.\n"
     ]
    }
   ],
   "source": [
    "%pip install duckdb numpy"
   ]
  },
  {
   "cell_type": "code",
   "execution_count": 1,
   "metadata": {},
   "outputs": [],
   "source": [
    "import kuzu\n",
    "kuzu_path = r\"C:\\tempKuzu\\ContainerLogistics.xml.kuzu\"\n",
    "query_names = {\"kuzu\": \"auto-cypher-Kuzu.txt\"}\n",
    "result_names = {\"kuzu\": \"kuzu-res.json\"}\n",
    "#queries = ['Q1','Q2','Q3','Q4','Q8','Q9','Q12','Q13']\n",
    "queries = ['Q10']\n",
    "#queries = ['Q10','Q11']\n",
    "N = 10\n",
    "\n",
    "_kuzu_db = None\n",
    "\n",
    "def load_db(db):\n",
    "    global _kuzu_db\n",
    "    if db == \"kuzu\":\n",
    "        if _kuzu_db is None:\n",
    "            _kuzu_db = kuzu.Database(kuzu_path, read_only=True)\n",
    "        return kuzu.Connection(_kuzu_db)\n",
    "\n",
    "def run_query(con, sql, db):\n",
    "    if db == \"sqlite\":\n",
    "        return con.execute(sql).fetchall()\n",
    "    if db == \"duckdb\":\n",
    "        return con.execute(sql).fetchall()\n",
    "    if db == \"kuzu\":\n",
    "        result = con.execute(sql)\n",
    "        return [tuple(row) for row in result]\n",
    "\n",
    "\n"
   ]
  },
  {
   "cell_type": "code",
   "execution_count": 2,
   "metadata": {},
   "outputs": [
    {
     "name": "stdout",
     "output_type": "stream",
     "text": [
      "kuzu for Q10 counted 428 and took 11.407303810119629\n"
     ]
    }
   ],
   "source": [
    "import time\n",
    "import numpy as np\n",
    "import json\n",
    "\n",
    "for db in [\"kuzu\"]:\n",
    "    count = None\n",
    "    for q in queries:\n",
    "        durations = []\n",
    "        with open(f\"{q}/{query_names[db]}\", \"r\", encoding=\"utf-8\") as f:\n",
    "            sql = f.read()\n",
    "            con = load_db(db)\n",
    "\n",
    "            for i in range(N):\n",
    "                start = time.time()\n",
    "                qres = run_query(con, sql, db)\n",
    "                duration = time.time() - start\n",
    "                count = len(qres)\n",
    "                durations.append(duration)\n",
    "\n",
    "        try:\n",
    "            con.close()  \n",
    "        except Exception:\n",
    "            pass\n",
    "        del con  \n",
    "\n",
    "        with open(f\"{q}/{result_names[db]}\", \"w\", encoding=\"utf-8\") as f:\n",
    "            json.dump(durations, f)\n",
    "        print(f\"{db} for {q} counted {count} and took {1000*np.mean(durations)}\")\n"
   ]
  }
 ],
 "metadata": {
  "kernelspec": {
   "display_name": "Python 3",
   "language": "python",
   "name": "python3"
  },
  "language_info": {
   "codemirror_mode": {
    "name": "ipython",
    "version": 3
   },
   "file_extension": ".py",
   "mimetype": "text/x-python",
   "name": "python",
   "nbconvert_exporter": "python",
   "pygments_lexer": "ipython3",
   "version": "3.13.2"
  }
 },
 "nbformat": 4,
 "nbformat_minor": 2
}
