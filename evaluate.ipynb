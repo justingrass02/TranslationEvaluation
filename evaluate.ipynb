{
 "cells": [
  {
   "cell_type": "code",
   "execution_count": 1,
   "metadata": {},
   "outputs": [
    {
     "name": "stdout",
     "output_type": "stream",
     "text": [
      "Defaulting to user installation because normal site-packages is not writeable\n",
      "Requirement already satisfied: duckdb in c:\\users\\justi\\appdata\\roaming\\python\\python313\\site-packages (1.3.2)\n",
      "Requirement already satisfied: numpy in c:\\users\\justi\\appdata\\roaming\\python\\python313\\site-packages (2.2.4)\n",
      "Note: you may need to restart the kernel to use updated packages.\n"
     ]
    },
    {
     "name": "stderr",
     "output_type": "stream",
     "text": [
      "\n",
      "[notice] A new release of pip is available: 25.0.1 -> 25.2\n",
      "[notice] To update, run: python.exe -m pip install --upgrade pip\n"
     ]
    }
   ],
   "source": [
    "%pip install duckdb numpy"
   ]
  },
  {
   "cell_type": "code",
   "execution_count": 3,
   "metadata": {},
   "outputs": [],
   "source": [
    "import sqlite3\n",
    "import os\n",
    "import duckdb\n",
    "sqlite_path = r\"C:\\tempSQLite\\order-management.sqlite\"\n",
    "duckdb_path = r\"C:\\tempDuckDB\\order-management-duckdb.db\"\n",
    "query_names = {\"sqlite\": \"auto-sql-SQLite.txt\", \"duckdb\": \"auto-sql-DuckDB.txt\"}\n",
    "result_names = {\"sqlite\": \"sqlite-res.json\", \"duckdb\": \"duckdb-res.json\"}\n",
    "#queries = ['Q1','Q2','Q3','Q4','Q8','Q9','Q12']\n",
    "#queries = ['Q5','Q6','Q7']\n",
    "#queries = ['Q10','Q11']\n",
    "queries = ['Q14']\n",
    "N = 10\n",
    "def load_db(db):\n",
    "    if db == \"sqlite\":\n",
    "        source = sqlite3.connect(sqlite_path)\n",
    "        # return source\n",
    "        target = sqlite3.connect(\":memory:\")\n",
    "        source.backup(target)\n",
    "        return target\n",
    "    if db == \"duckdb\":\n",
    "        return duckdb.connect(duckdb_path)\n",
    "def run_query(con,sql,db):\n",
    "    if db == \"sqlite\":\n",
    "        return con.execute(sql).fetchall()\n",
    "    if db == \"duckdb\":\n",
    "        return con.execute(sql).fetchall()"
   ]
  },
  {
   "cell_type": "code",
   "execution_count": null,
   "metadata": {},
   "outputs": [],
   "source": [
    "import time\n",
    "import numpy as np\n",
    "import json\n",
    "for db in [\"sqlite\"]:\n",
    "    count = None\n",
    "    durations = []\n",
    "    for q in queries:\n",
    "        with open(f\"{q}/{query_names[db]}\") as f:\n",
    "            sql = f.read()\n",
    "            for i in range(0,N):\n",
    "                con = load_db(db)\n",
    "                start = time.time()\n",
    "                qres = run_query(con,sql,db)\n",
    "                duration = time.time() - start\n",
    "                con.close()\n",
    "                count = len(qres)\n",
    "                durations.append(duration)\n",
    "            with open(f\"{q}/{result_names[db]}\",\"w\") as f:\n",
    "                json.dump(durations,f)\n",
    "            print(f\"{db} for {q} counted {count} and took {1000*np.mean(durations)}\")\n"
   ]
  }
 ],
 "metadata": {
  "kernelspec": {
   "display_name": "Python 3",
   "language": "python",
   "name": "python3"
  },
  "language_info": {
   "codemirror_mode": {
    "name": "ipython",
    "version": 3
   },
   "file_extension": ".py",
   "mimetype": "text/x-python",
   "name": "python",
   "nbconvert_exporter": "python",
   "pygments_lexer": "ipython3",
   "version": "3.13.2"
  }
 },
 "nbformat": 4,
 "nbformat_minor": 2
}
