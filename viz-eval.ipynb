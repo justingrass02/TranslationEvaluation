{
 "cells": [
  {
   "cell_type": "code",
   "execution_count": 1,
   "metadata": {},
   "outputs": [
    {
     "name": "stdout",
     "output_type": "stream",
     "text": [
      "Defaulting to user installation because normal site-packages is not writeable\n",
      "Requirement already satisfied: plotly in c:\\users\\justi\\appdata\\roaming\\python\\python313\\site-packages (6.2.0)\n",
      "Requirement already satisfied: nbformat>=4.2.0 in c:\\users\\justi\\appdata\\roaming\\python\\python313\\site-packages (5.10.4)\n",
      "Requirement already satisfied: numpy in c:\\users\\justi\\appdata\\roaming\\python\\python313\\site-packages (2.2.4)\n",
      "Requirement already satisfied: kaleido in c:\\users\\justi\\appdata\\roaming\\python\\python313\\site-packages (1.0.0)\n",
      "Requirement already satisfied: narwhals>=1.15.1 in c:\\users\\justi\\appdata\\roaming\\python\\python313\\site-packages (from plotly) (2.0.1)\n",
      "Requirement already satisfied: packaging in c:\\users\\justi\\appdata\\roaming\\python\\python313\\site-packages (from plotly) (24.2)\n",
      "Requirement already satisfied: fastjsonschema>=2.15 in c:\\users\\justi\\appdata\\roaming\\python\\python313\\site-packages (from nbformat>=4.2.0) (2.21.1)\n",
      "Requirement already satisfied: jsonschema>=2.6 in c:\\users\\justi\\appdata\\roaming\\python\\python313\\site-packages (from nbformat>=4.2.0) (4.23.0)\n",
      "Requirement already satisfied: jupyter-core!=5.0.*,>=4.12 in c:\\users\\justi\\appdata\\roaming\\python\\python313\\site-packages (from nbformat>=4.2.0) (5.7.2)\n",
      "Requirement already satisfied: traitlets>=5.1 in c:\\users\\justi\\appdata\\roaming\\python\\python313\\site-packages (from nbformat>=4.2.0) (5.14.3)\n",
      "Requirement already satisfied: choreographer>=1.0.5 in c:\\users\\justi\\appdata\\roaming\\python\\python313\\site-packages (from kaleido) (1.0.9)\n",
      "Requirement already satisfied: logistro>=1.0.8 in c:\\users\\justi\\appdata\\roaming\\python\\python313\\site-packages (from kaleido) (1.1.0)\n",
      "Requirement already satisfied: orjson>=3.10.15 in c:\\users\\justi\\appdata\\roaming\\python\\python313\\site-packages (from kaleido) (3.11.1)\n",
      "Requirement already satisfied: simplejson>=3.19.3 in c:\\users\\justi\\appdata\\roaming\\python\\python313\\site-packages (from choreographer>=1.0.5->kaleido) (3.20.1)\n",
      "Requirement already satisfied: attrs>=22.2.0 in c:\\users\\justi\\appdata\\roaming\\python\\python313\\site-packages (from jsonschema>=2.6->nbformat>=4.2.0) (25.3.0)\n",
      "Requirement already satisfied: jsonschema-specifications>=2023.03.6 in c:\\users\\justi\\appdata\\roaming\\python\\python313\\site-packages (from jsonschema>=2.6->nbformat>=4.2.0) (2024.10.1)\n",
      "Requirement already satisfied: referencing>=0.28.4 in c:\\users\\justi\\appdata\\roaming\\python\\python313\\site-packages (from jsonschema>=2.6->nbformat>=4.2.0) (0.36.2)\n",
      "Requirement already satisfied: rpds-py>=0.7.1 in c:\\users\\justi\\appdata\\roaming\\python\\python313\\site-packages (from jsonschema>=2.6->nbformat>=4.2.0) (0.24.0)\n",
      "Requirement already satisfied: platformdirs>=2.5 in c:\\users\\justi\\appdata\\roaming\\python\\python313\\site-packages (from jupyter-core!=5.0.*,>=4.12->nbformat>=4.2.0) (4.3.7)\n",
      "Requirement already satisfied: pywin32>=300 in c:\\users\\justi\\appdata\\roaming\\python\\python313\\site-packages (from jupyter-core!=5.0.*,>=4.12->nbformat>=4.2.0) (310)\n",
      "Note: you may need to restart the kernel to use updated packages.\n"
     ]
    }
   ],
   "source": [
    "%pip install \"plotly\" \"nbformat>=4.2.0\" \"numpy\" \"kaleido\""
   ]
  },
  {
   "cell_type": "code",
   "execution_count": 1,
   "metadata": {},
   "outputs": [],
   "source": [
    "queries = ['Q1','Q2','Q3','Q4','Q5','Q6','Q7','Q8','Q9','Q10','Q11','Q12','Q13','Q14']\n",
    "approaches = ['OCPQ','DuckDB','SQLite','Kuzu'] # , 'SQL'"
   ]
  },
  {
   "cell_type": "code",
   "execution_count": 2,
   "metadata": {},
   "outputs": [],
   "source": [
    "import json\n",
    "import numpy as np\n",
    "res = {}\n",
    "for q in queries:\n",
    "    res[q] = {}\n",
    "    for a in approaches:\n",
    "        try:\n",
    "            with open(f\"./{q}/{a.lower()}-res.json\") as f:\n",
    "                res[q][a] = json.load(f)\n",
    "        except:\n",
    "                res[q][a] = False"
   ]
  },
  {
   "cell_type": "code",
   "execution_count": null,
   "metadata": {},
   "outputs": [],
   "source": []
  },
  {
   "cell_type": "code",
   "execution_count": 3,
   "metadata": {},
   "outputs": [
    {
     "data": {
      "application/vnd.plotly.v1+json": {
       "config": {
        "plotlyServerURL": "https://plot.ly"
       },
       "data": [
        {
         "colorbar": {
          "title": {
           "font": {
            "size": 16
           },
           "side": "bottom",
           "text": "Duration (ms)"
          }
         },
         "colorscale": [
          [
           0,
           "rgb(0,69,41)"
          ],
          [
           0.125,
           "rgb(0,104,55)"
          ],
          [
           0.25,
           "rgb(35,132,67)"
          ],
          [
           0.375,
           "rgb(65,171,93)"
          ],
          [
           0.5,
           "rgb(120,198,121)"
          ],
          [
           0.625,
           "rgb(173,221,142)"
          ],
          [
           0.75,
           "rgb(217,240,163)"
          ],
          [
           0.875,
           "rgb(247,252,185)"
          ],
          [
           1,
           "rgb(255,255,229)"
          ]
         ],
         "text": [
          [
           "3ms",
           "2ms",
           "4ms",
           "1ms",
           "69ms",
           "62ms",
           "52ms",
           "2ms",
           "7ms",
           "4ms",
           "99ms",
           "14ms",
           "10ms",
           "292ms"
          ],
          [
           "10ms",
           "10ms",
           "14ms",
           "31ms",
           "152ms",
           "109ms",
           "96ms",
           "43ms",
           "52ms",
           "14ms",
           "345ms",
           "52ms",
           "121ms",
           "781ms"
          ],
          [
           "6ms",
           "15ms",
           "14ms",
           "11ms",
           "1279ms",
           "938ms",
           "859ms",
           "10ms",
           "9ms",
           "108ms",
           "1788ms",
           "2066ms",
           "176ms",
           ""
          ],
          [
           "17ms",
           "5ms",
           "3ms",
           "3ms",
           "269ms",
           "55ms",
           "72ms",
           "0ms",
           "6ms",
           "5ms",
           "1ms",
           "54ms",
           "7ms",
           "2219ms"
          ]
         ],
         "textfont": {
          "size": 20
         },
         "texttemplate": "%{text}",
         "type": "heatmap",
         "x": [
          "Q1",
          "Q2",
          "Q3",
          "Q4",
          "Q5",
          "Q6",
          "Q7",
          "Q8",
          "Q9",
          "Q10",
          "Q11",
          "Q12",
          "Q13",
          "Q14"
         ],
         "xgap": 1,
         "y": [
          "<b>OCPQ</b>",
          "DuckDB",
          "SQLite",
          "Kuzu"
         ],
         "ygap": 1,
         "z": [
          [
           3.14491,
           2.3343200000000004,
           4.20563,
           1.0675799999999998,
           68.69435999999999,
           61.79451,
           52.302859999999995,
           2.3965600000000005,
           6.86732,
           4.14504,
           99.41960000000002,
           14.284450000000001,
           10.40037,
           292.24589
          ],
          [
           10.118341445922852,
           9.957218170166016,
           14.033722877502441,
           31.216484308242798,
           152.39627361297607,
           108.769690990448,
           96.18999163309732,
           43.118815422058105,
           51.67847077051799,
           14.126205444335938,
           345.2265501022339,
           52.356137548174175,
           121.47650718688965,
           780.5166006088257
          ],
          [
           6.343531608581543,
           15.048205852508545,
           14.396929740905762,
           11.115998029708862,
           1278.9143800735474,
           937.5330805778503,
           858.8780323664348,
           10.101752281188965,
           9.315049648284912,
           108.36303234100342,
           1787.7619624137878,
           2065.790023122515,
           176.16379261016846,
           null
          ],
          [
           16.66865348815918,
           4.876875877380371,
           2.675199508666992,
           2.969980239868164,
           268.99702548980713,
           55.48262596130371,
           72.35612869262695,
           0.27501583099365234,
           6.368827819824219,
           5.11014461517334,
           1.3544559478759766,
           53.8135290145874,
           6.966638565063477,
           2218.6002016067505
          ]
         ]
        }
       ],
       "layout": {
        "annotations": [
         {
          "font": {
           "color": "lightgray",
           "size": 36
          },
          "showarrow": false,
          "text": "✗",
          "x": 13,
          "y": 2
         }
        ],
        "autosize": false,
        "font": {
         "size": 24
        },
        "height": 600,
        "margin": {
         "b": 120,
         "l": 80,
         "r": 40,
         "t": 40
        },
        "template": {
         "data": {
          "bar": [
           {
            "error_x": {
             "color": "#2a3f5f"
            },
            "error_y": {
             "color": "#2a3f5f"
            },
            "marker": {
             "line": {
              "color": "white",
              "width": 0.5
             },
             "pattern": {
              "fillmode": "overlay",
              "size": 10,
              "solidity": 0.2
             }
            },
            "type": "bar"
           }
          ],
          "barpolar": [
           {
            "marker": {
             "line": {
              "color": "white",
              "width": 0.5
             },
             "pattern": {
              "fillmode": "overlay",
              "size": 10,
              "solidity": 0.2
             }
            },
            "type": "barpolar"
           }
          ],
          "carpet": [
           {
            "aaxis": {
             "endlinecolor": "#2a3f5f",
             "gridcolor": "#C8D4E3",
             "linecolor": "#C8D4E3",
             "minorgridcolor": "#C8D4E3",
             "startlinecolor": "#2a3f5f"
            },
            "baxis": {
             "endlinecolor": "#2a3f5f",
             "gridcolor": "#C8D4E3",
             "linecolor": "#C8D4E3",
             "minorgridcolor": "#C8D4E3",
             "startlinecolor": "#2a3f5f"
            },
            "type": "carpet"
           }
          ],
          "choropleth": [
           {
            "colorbar": {
             "outlinewidth": 0,
             "ticks": ""
            },
            "type": "choropleth"
           }
          ],
          "contour": [
           {
            "colorbar": {
             "outlinewidth": 0,
             "ticks": ""
            },
            "colorscale": [
             [
              0,
              "#0d0887"
             ],
             [
              0.1111111111111111,
              "#46039f"
             ],
             [
              0.2222222222222222,
              "#7201a8"
             ],
             [
              0.3333333333333333,
              "#9c179e"
             ],
             [
              0.4444444444444444,
              "#bd3786"
             ],
             [
              0.5555555555555556,
              "#d8576b"
             ],
             [
              0.6666666666666666,
              "#ed7953"
             ],
             [
              0.7777777777777778,
              "#fb9f3a"
             ],
             [
              0.8888888888888888,
              "#fdca26"
             ],
             [
              1,
              "#f0f921"
             ]
            ],
            "type": "contour"
           }
          ],
          "contourcarpet": [
           {
            "colorbar": {
             "outlinewidth": 0,
             "ticks": ""
            },
            "type": "contourcarpet"
           }
          ],
          "heatmap": [
           {
            "colorbar": {
             "outlinewidth": 0,
             "ticks": ""
            },
            "colorscale": [
             [
              0,
              "#0d0887"
             ],
             [
              0.1111111111111111,
              "#46039f"
             ],
             [
              0.2222222222222222,
              "#7201a8"
             ],
             [
              0.3333333333333333,
              "#9c179e"
             ],
             [
              0.4444444444444444,
              "#bd3786"
             ],
             [
              0.5555555555555556,
              "#d8576b"
             ],
             [
              0.6666666666666666,
              "#ed7953"
             ],
             [
              0.7777777777777778,
              "#fb9f3a"
             ],
             [
              0.8888888888888888,
              "#fdca26"
             ],
             [
              1,
              "#f0f921"
             ]
            ],
            "type": "heatmap"
           }
          ],
          "histogram": [
           {
            "marker": {
             "pattern": {
              "fillmode": "overlay",
              "size": 10,
              "solidity": 0.2
             }
            },
            "type": "histogram"
           }
          ],
          "histogram2d": [
           {
            "colorbar": {
             "outlinewidth": 0,
             "ticks": ""
            },
            "colorscale": [
             [
              0,
              "#0d0887"
             ],
             [
              0.1111111111111111,
              "#46039f"
             ],
             [
              0.2222222222222222,
              "#7201a8"
             ],
             [
              0.3333333333333333,
              "#9c179e"
             ],
             [
              0.4444444444444444,
              "#bd3786"
             ],
             [
              0.5555555555555556,
              "#d8576b"
             ],
             [
              0.6666666666666666,
              "#ed7953"
             ],
             [
              0.7777777777777778,
              "#fb9f3a"
             ],
             [
              0.8888888888888888,
              "#fdca26"
             ],
             [
              1,
              "#f0f921"
             ]
            ],
            "type": "histogram2d"
           }
          ],
          "histogram2dcontour": [
           {
            "colorbar": {
             "outlinewidth": 0,
             "ticks": ""
            },
            "colorscale": [
             [
              0,
              "#0d0887"
             ],
             [
              0.1111111111111111,
              "#46039f"
             ],
             [
              0.2222222222222222,
              "#7201a8"
             ],
             [
              0.3333333333333333,
              "#9c179e"
             ],
             [
              0.4444444444444444,
              "#bd3786"
             ],
             [
              0.5555555555555556,
              "#d8576b"
             ],
             [
              0.6666666666666666,
              "#ed7953"
             ],
             [
              0.7777777777777778,
              "#fb9f3a"
             ],
             [
              0.8888888888888888,
              "#fdca26"
             ],
             [
              1,
              "#f0f921"
             ]
            ],
            "type": "histogram2dcontour"
           }
          ],
          "mesh3d": [
           {
            "colorbar": {
             "outlinewidth": 0,
             "ticks": ""
            },
            "type": "mesh3d"
           }
          ],
          "parcoords": [
           {
            "line": {
             "colorbar": {
              "outlinewidth": 0,
              "ticks": ""
             }
            },
            "type": "parcoords"
           }
          ],
          "pie": [
           {
            "automargin": true,
            "type": "pie"
           }
          ],
          "scatter": [
           {
            "fillpattern": {
             "fillmode": "overlay",
             "size": 10,
             "solidity": 0.2
            },
            "type": "scatter"
           }
          ],
          "scatter3d": [
           {
            "line": {
             "colorbar": {
              "outlinewidth": 0,
              "ticks": ""
             }
            },
            "marker": {
             "colorbar": {
              "outlinewidth": 0,
              "ticks": ""
             }
            },
            "type": "scatter3d"
           }
          ],
          "scattercarpet": [
           {
            "marker": {
             "colorbar": {
              "outlinewidth": 0,
              "ticks": ""
             }
            },
            "type": "scattercarpet"
           }
          ],
          "scattergeo": [
           {
            "marker": {
             "colorbar": {
              "outlinewidth": 0,
              "ticks": ""
             }
            },
            "type": "scattergeo"
           }
          ],
          "scattergl": [
           {
            "marker": {
             "colorbar": {
              "outlinewidth": 0,
              "ticks": ""
             }
            },
            "type": "scattergl"
           }
          ],
          "scattermap": [
           {
            "marker": {
             "colorbar": {
              "outlinewidth": 0,
              "ticks": ""
             }
            },
            "type": "scattermap"
           }
          ],
          "scattermapbox": [
           {
            "marker": {
             "colorbar": {
              "outlinewidth": 0,
              "ticks": ""
             }
            },
            "type": "scattermapbox"
           }
          ],
          "scatterpolar": [
           {
            "marker": {
             "colorbar": {
              "outlinewidth": 0,
              "ticks": ""
             }
            },
            "type": "scatterpolar"
           }
          ],
          "scatterpolargl": [
           {
            "marker": {
             "colorbar": {
              "outlinewidth": 0,
              "ticks": ""
             }
            },
            "type": "scatterpolargl"
           }
          ],
          "scatterternary": [
           {
            "marker": {
             "colorbar": {
              "outlinewidth": 0,
              "ticks": ""
             }
            },
            "type": "scatterternary"
           }
          ],
          "surface": [
           {
            "colorbar": {
             "outlinewidth": 0,
             "ticks": ""
            },
            "colorscale": [
             [
              0,
              "#0d0887"
             ],
             [
              0.1111111111111111,
              "#46039f"
             ],
             [
              0.2222222222222222,
              "#7201a8"
             ],
             [
              0.3333333333333333,
              "#9c179e"
             ],
             [
              0.4444444444444444,
              "#bd3786"
             ],
             [
              0.5555555555555556,
              "#d8576b"
             ],
             [
              0.6666666666666666,
              "#ed7953"
             ],
             [
              0.7777777777777778,
              "#fb9f3a"
             ],
             [
              0.8888888888888888,
              "#fdca26"
             ],
             [
              1,
              "#f0f921"
             ]
            ],
            "type": "surface"
           }
          ],
          "table": [
           {
            "cells": {
             "fill": {
              "color": "#EBF0F8"
             },
             "line": {
              "color": "white"
             }
            },
            "header": {
             "fill": {
              "color": "#C8D4E3"
             },
             "line": {
              "color": "white"
             }
            },
            "type": "table"
           }
          ]
         },
         "layout": {
          "annotationdefaults": {
           "arrowcolor": "#2a3f5f",
           "arrowhead": 0,
           "arrowwidth": 1
          },
          "autotypenumbers": "strict",
          "coloraxis": {
           "colorbar": {
            "outlinewidth": 0,
            "ticks": ""
           }
          },
          "colorscale": {
           "diverging": [
            [
             0,
             "#8e0152"
            ],
            [
             0.1,
             "#c51b7d"
            ],
            [
             0.2,
             "#de77ae"
            ],
            [
             0.3,
             "#f1b6da"
            ],
            [
             0.4,
             "#fde0ef"
            ],
            [
             0.5,
             "#f7f7f7"
            ],
            [
             0.6,
             "#e6f5d0"
            ],
            [
             0.7,
             "#b8e186"
            ],
            [
             0.8,
             "#7fbc41"
            ],
            [
             0.9,
             "#4d9221"
            ],
            [
             1,
             "#276419"
            ]
           ],
           "sequential": [
            [
             0,
             "#0d0887"
            ],
            [
             0.1111111111111111,
             "#46039f"
            ],
            [
             0.2222222222222222,
             "#7201a8"
            ],
            [
             0.3333333333333333,
             "#9c179e"
            ],
            [
             0.4444444444444444,
             "#bd3786"
            ],
            [
             0.5555555555555556,
             "#d8576b"
            ],
            [
             0.6666666666666666,
             "#ed7953"
            ],
            [
             0.7777777777777778,
             "#fb9f3a"
            ],
            [
             0.8888888888888888,
             "#fdca26"
            ],
            [
             1,
             "#f0f921"
            ]
           ],
           "sequentialminus": [
            [
             0,
             "#0d0887"
            ],
            [
             0.1111111111111111,
             "#46039f"
            ],
            [
             0.2222222222222222,
             "#7201a8"
            ],
            [
             0.3333333333333333,
             "#9c179e"
            ],
            [
             0.4444444444444444,
             "#bd3786"
            ],
            [
             0.5555555555555556,
             "#d8576b"
            ],
            [
             0.6666666666666666,
             "#ed7953"
            ],
            [
             0.7777777777777778,
             "#fb9f3a"
            ],
            [
             0.8888888888888888,
             "#fdca26"
            ],
            [
             1,
             "#f0f921"
            ]
           ]
          },
          "colorway": [
           "#636efa",
           "#EF553B",
           "#00cc96",
           "#ab63fa",
           "#FFA15A",
           "#19d3f3",
           "#FF6692",
           "#B6E880",
           "#FF97FF",
           "#FECB52"
          ],
          "font": {
           "color": "#2a3f5f"
          },
          "geo": {
           "bgcolor": "white",
           "lakecolor": "white",
           "landcolor": "white",
           "showlakes": true,
           "showland": true,
           "subunitcolor": "#C8D4E3"
          },
          "hoverlabel": {
           "align": "left"
          },
          "hovermode": "closest",
          "mapbox": {
           "style": "light"
          },
          "paper_bgcolor": "white",
          "plot_bgcolor": "white",
          "polar": {
           "angularaxis": {
            "gridcolor": "#EBF0F8",
            "linecolor": "#EBF0F8",
            "ticks": ""
           },
           "bgcolor": "white",
           "radialaxis": {
            "gridcolor": "#EBF0F8",
            "linecolor": "#EBF0F8",
            "ticks": ""
           }
          },
          "scene": {
           "xaxis": {
            "backgroundcolor": "white",
            "gridcolor": "#DFE8F3",
            "gridwidth": 2,
            "linecolor": "#EBF0F8",
            "showbackground": true,
            "ticks": "",
            "zerolinecolor": "#EBF0F8"
           },
           "yaxis": {
            "backgroundcolor": "white",
            "gridcolor": "#DFE8F3",
            "gridwidth": 2,
            "linecolor": "#EBF0F8",
            "showbackground": true,
            "ticks": "",
            "zerolinecolor": "#EBF0F8"
           },
           "zaxis": {
            "backgroundcolor": "white",
            "gridcolor": "#DFE8F3",
            "gridwidth": 2,
            "linecolor": "#EBF0F8",
            "showbackground": true,
            "ticks": "",
            "zerolinecolor": "#EBF0F8"
           }
          },
          "shapedefaults": {
           "line": {
            "color": "#2a3f5f"
           }
          },
          "ternary": {
           "aaxis": {
            "gridcolor": "#DFE8F3",
            "linecolor": "#A2B1C6",
            "ticks": ""
           },
           "baxis": {
            "gridcolor": "#DFE8F3",
            "linecolor": "#A2B1C6",
            "ticks": ""
           },
           "bgcolor": "white",
           "caxis": {
            "gridcolor": "#DFE8F3",
            "linecolor": "#A2B1C6",
            "ticks": ""
           }
          },
          "title": {
           "x": 0.05
          },
          "xaxis": {
           "automargin": true,
           "gridcolor": "#EBF0F8",
           "linecolor": "#EBF0F8",
           "ticks": "",
           "title": {
            "standoff": 15
           },
           "zerolinecolor": "#EBF0F8",
           "zerolinewidth": 2
          },
          "yaxis": {
           "automargin": true,
           "gridcolor": "#EBF0F8",
           "linecolor": "#EBF0F8",
           "ticks": "",
           "title": {
            "standoff": 15
           },
           "zerolinecolor": "#EBF0F8",
           "zerolinewidth": 2
          }
         }
        },
        "title": {
         "text": ""
        },
        "width": 1960,
        "xaxis": {
         "showgrid": true,
         "tickangle": 45,
         "tickson": "boundaries",
         "title": {
          "text": "Query"
         }
        },
        "yaxis": {
         "showgrid": true,
         "tickson": "boundaries",
         "ticksuffix": " ",
         "title": {
          "text": "Approach"
         }
        }
       }
      }
     },
     "metadata": {},
     "output_type": "display_data"
    }
   ],
   "source": [
    "import plotly.graph_objects as go\n",
    "import plotly.colors as colors_sq\n",
    "import numpy as np\n",
    "\n",
    "\n",
    "CELL_WIDTH_PX  = 140 \n",
    "CELL_HEIGHT_PX = 70    \n",
    "MIN_W, MIN_H   = 1200, 600\n",
    "MAX_W, MAX_H   = 12000, 8000\n",
    "PNG_SCALE      = 2      \n",
    "\n",
    "\n",
    "fig_width  = min(MAX_W, max(MIN_W, CELL_WIDTH_PX  * len(queries)))\n",
    "fig_height = min(MAX_H, max(MIN_H, CELL_HEIGHT_PX * len(approaches)))\n",
    "\n",
    "fig = go.Figure(data=go.Heatmap(\n",
    "    z=[[None if ((res[q][a] == False) or (type(res[q][a]) == str)) else 1000 * np.mean(res[q][a]) for q in queries] for a in approaches],\n",
    "    x=queries,\n",
    "    y=[f\"<b>{a}</b>\" if a == \"OCPQ\" else a for a in approaches],\n",
    "    text=[\n",
    "        [\n",
    "            \"\" if ((res[q][a] == False) or (type(res[q][a]) == str)) else\n",
    "            \"\" if np.isnan(np.mean(res[q][a])) else f\"{np.round(1000 * np.mean(res[q][a]),0):.0f}ms\"\n",
    "            for q in queries\n",
    "        ]\n",
    "        for a in approaches\n",
    "    ],\n",
    "    texttemplate=\"%{text}\",\n",
    "    textfont={\"size\": 20},  \n",
    "    colorscale=colors_sq.sequential.YlGn_r,\n",
    "    colorbar=dict(title=dict(text=\"Duration (ms)\", side=\"bottom\", font=dict(size=16))),\n",
    "    xgap=1, \n",
    "    ygap=1\n",
    "))\n",
    "\n",
    "fig.update_yaxes(ticksuffix=\" \", title=\"Approach\", showgrid=True, tickson='boundaries')\n",
    "fig.update_xaxes(title=\"Query\", showgrid=True, tickson='boundaries', tickangle=45)\n",
    "\n",
    "fig.update_layout(\n",
    "    font=dict(size=24),\n",
    "    autosize=False,\n",
    "    width=fig_width,    \n",
    "    height=fig_height,  \n",
    "    template=\"plotly_white\",\n",
    "    title=\"\",\n",
    "    margin=dict(l=80, r=40, t=40, b=120) \n",
    ")\n",
    "\n",
    "for q_i in range(len(queries)):\n",
    "    for a_i in range(len(approaches)):\n",
    "        q = queries[q_i]\n",
    "        a = approaches[a_i]\n",
    "        if res[q][a] == False or type(res[q][a]) == str:\n",
    "            fig.add_annotation(\n",
    "                x=q_i, y=a_i,\n",
    "                text=\"✔\" if res[q][a] == True else \"✗\" if res[q][a] == False else res[q][a],\n",
    "                showarrow=False,\n",
    "                font=dict(size=36, color=\"green\" if res[q][a] == True else \"lightgray\" if res[q][a] == False else \"gray\")\n",
    "            )\n",
    "\n",
    "fig.show()\n",
    "\n",
    "\n",
    "fig.write_image(\"heatmapJustin.svg\", width=fig_width, height=fig_height)\n",
    "fig.write_image(\"heatmapJustin.pdf\", width=fig_width, height=fig_height)\n",
    "fig.write_image(\"heatmapJustin.png\", width=fig_width, height=fig_height, scale=PNG_SCALE)  \n"
   ]
  }
 ],
 "metadata": {
  "kernelspec": {
   "display_name": "Python 3",
   "language": "python",
   "name": "python3"
  },
  "language_info": {
   "codemirror_mode": {
    "name": "ipython",
    "version": 3
   },
   "file_extension": ".py",
   "mimetype": "text/x-python",
   "name": "python",
   "nbconvert_exporter": "python",
   "pygments_lexer": "ipython3",
   "version": "3.13.2"
  }
 },
 "nbformat": 4,
 "nbformat_minor": 2
}
